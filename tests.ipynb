{
 "cells": [
  {
   "cell_type": "code",
   "execution_count": 294,
   "metadata": {},
   "outputs": [],
   "source": [
    "import pandas as pd\n",
    "from joblib import load, dump\n",
    "\n",
    "from sklearn.linear_model import LinearRegression\n",
    "from sklearn.ensemble import RandomForestRegressor\n",
    "from sklearn.gaussian_process import GaussianProcessRegressor\n",
    "from sklearn.naive_bayes import GaussianNB\n",
    "from sklearn.neural_network import MLPRegressor\n",
    "from sklearn.linear_model import HuberRegressor\n",
    "from sklearn.neural_network import MLPRegressor\n",
    "\n",
    "from sklearn.tree import DecisionTreeRegressor\n",
    "from sklearn.linear_model import LassoCV\n",
    "\n",
    "from sklearn.model_selection import cross_validate\n"
   ]
  },
  {
   "cell_type": "code",
   "execution_count": 295,
   "metadata": {},
   "outputs": [],
   "source": [
    "def prep_data(df):\n",
    "\n",
    "    df = df.assign(hw=df[\"Height\"] * df[\"Width\"])\n",
    "\n",
    "    X = df[[\"Length1\", \"Length2\", \"Length3\", \"Height\", \"Width\", \"hw\"]].values\n",
    "    y = df[\"Weight\"].values\n",
    "\n",
    "    return X, y"
   ]
  },
  {
   "cell_type": "markdown",
   "metadata": {},
   "source": [
    "## Linear Regression"
   ]
  },
  {
   "cell_type": "code",
   "execution_count": 296,
   "metadata": {},
   "outputs": [
    {
     "data": {
      "text/plain": [
       "['lrreg.joblib']"
      ]
     },
     "execution_count": 296,
     "metadata": {},
     "output_type": "execute_result"
    }
   ],
   "source": [
    "df = pd.read_csv(\"fish_participant.csv\")\n",
    "\n",
    "X, y = prep_data(df)\n",
    "\n",
    "lr = LinearRegression()\n",
    "lr.fit(X, y)\n",
    "\n",
    "dump(lr, \"lrreg.joblib\")"
   ]
  },
  {
   "cell_type": "markdown",
   "metadata": {},
   "source": [
    "## Random Forest"
   ]
  },
  {
   "cell_type": "code",
   "execution_count": 297,
   "metadata": {},
   "outputs": [
    {
     "data": {
      "text/plain": [
       "['rfreg.joblib']"
      ]
     },
     "execution_count": 297,
     "metadata": {},
     "output_type": "execute_result"
    }
   ],
   "source": [
    "df = pd.read_csv(\"fish_participant.csv\")\n",
    "\n",
    "X, y = prep_data(df)\n",
    "\n",
    "rf = RandomForestRegressor()\n",
    "rf.fit(X, y)\n",
    "\n",
    "dump(rf, \"rfreg.joblib\")"
   ]
  },
  {
   "cell_type": "markdown",
   "metadata": {},
   "source": [
    "## Weighted Random Forest"
   ]
  },
  {
   "cell_type": "code",
   "execution_count": 298,
   "metadata": {},
   "outputs": [
    {
     "data": {
      "text/plain": [
       "['wrfreg.joblib']"
      ]
     },
     "execution_count": 298,
     "metadata": {},
     "output_type": "execute_result"
    }
   ],
   "source": [
    "df = pd.read_csv(\"fish_participant.csv\")\n",
    "\n",
    "X, y = prep_data(df)\n",
    "\n",
    "wrf = RandomForestRegressor(min_weight_fraction_leaf=.05)\n",
    "wrf.fit(X, y)\n",
    "\n",
    "dump(wrf, \"wrfreg.joblib\")"
   ]
  },
  {
   "cell_type": "markdown",
   "metadata": {},
   "source": [
    "## Multi Layer Preception"
   ]
  },
  {
   "cell_type": "code",
   "execution_count": 299,
   "metadata": {},
   "outputs": [
    {
     "name": "stderr",
     "output_type": "stream",
     "text": [
      "C:\\Users\\rpimt\\.virtualenvs\\PocketSom-8KEfQFak\\lib\\site-packages\\sklearn\\neural_network\\_multilayer_perceptron.py:571: ConvergenceWarning: Stochastic Optimizer: Maximum iterations (200) reached and the optimization hasn't converged yet.\n",
      "  % self.max_iter, ConvergenceWarning)\n"
     ]
    },
    {
     "data": {
      "text/plain": [
       "['mlpreg.joblib']"
      ]
     },
     "execution_count": 299,
     "metadata": {},
     "output_type": "execute_result"
    }
   ],
   "source": [
    "df = pd.read_csv(\"fish_participant.csv\")\n",
    "\n",
    "X, y = prep_data(df)\n",
    "\n",
    "mlp = MLPRegressor()\n",
    "mlp.fit(X, y)\n",
    "\n",
    "dump(mlp, \"mlpreg.joblib\")"
   ]
  },
  {
   "cell_type": "markdown",
   "metadata": {},
   "source": [
    "## Gaussian Process "
   ]
  },
  {
   "cell_type": "code",
   "execution_count": 300,
   "metadata": {},
   "outputs": [
    {
     "data": {
      "text/plain": [
       "['gpreg.joblib']"
      ]
     },
     "execution_count": 300,
     "metadata": {},
     "output_type": "execute_result"
    }
   ],
   "source": [
    "df = pd.read_csv(\"fish_participant.csv\")\n",
    "\n",
    "X, y = prep_data(df)\n",
    "\n",
    "gp = GaussianProcessRegressor()\n",
    "gp.fit(X, y)\n",
    "\n",
    "dump(gp, \"gpreg.joblib\")"
   ]
  },
  {
   "cell_type": "markdown",
   "metadata": {},
   "source": [
    "## Naive Bayes"
   ]
  },
  {
   "cell_type": "code",
   "execution_count": 301,
   "metadata": {},
   "outputs": [
    {
     "name": "stderr",
     "output_type": "stream",
     "text": [
      "C:\\Users\\rpimt\\.virtualenvs\\PocketSom-8KEfQFak\\lib\\site-packages\\sklearn\\linear_model\\_huber.py:296: ConvergenceWarning: lbfgs failed to converge (status=1):\n",
      "STOP: TOTAL NO. of ITERATIONS REACHED LIMIT.\n",
      "\n",
      "Increase the number of iterations (max_iter) or scale the data as shown in:\n",
      "    https://scikit-learn.org/stable/modules/preprocessing.html\n",
      "  self.n_iter_ = _check_optimize_result(\"lbfgs\", opt_res, self.max_iter)\n"
     ]
    },
    {
     "data": {
      "text/plain": [
       "['nbreg.joblib']"
      ]
     },
     "execution_count": 301,
     "metadata": {},
     "output_type": "execute_result"
    }
   ],
   "source": [
    "df = pd.read_csv(\"fish_participant.csv\")\n",
    "\n",
    "X, y = prep_data(df)\n",
    "\n",
    "nb = HuberRegressor()\n",
    "nb.fit(X, y)\n",
    "\n",
    "dump(nb, \"nbreg.joblib\")"
   ]
  },
  {
   "cell_type": "markdown",
   "metadata": {},
   "source": [
    "## Decision Tree"
   ]
  },
  {
   "cell_type": "code",
   "execution_count": 302,
   "metadata": {},
   "outputs": [
    {
     "data": {
      "text/plain": [
       "['dtreg.joblib']"
      ]
     },
     "execution_count": 302,
     "metadata": {},
     "output_type": "execute_result"
    }
   ],
   "source": [
    "df = pd.read_csv(\"fish_participant.csv\")\n",
    "\n",
    "X, y = prep_data(df)\n",
    "\n",
    "dt = DecisionTreeRegressor()\n",
    "dt.fit(X, y)\n",
    "\n",
    "dump(dt, \"dtreg.joblib\")"
   ]
  },
  {
   "cell_type": "code",
   "execution_count": 303,
   "metadata": {},
   "outputs": [
    {
     "name": "stdout",
     "output_type": "stream",
     "text": [
      "[ 192.85   711.46   146.25    52.537 1009.75   143.3    687.03   297.39\n",
      "  146.26   326.1   1073.75   286.39   137.83   599.      85.37    97.36\n",
      "   40.823  283.16   121.05   526.41   117.35   145.64   166.69   808.41\n",
      "  243.84   715.45   662.49   691.6  ]\n"
     ]
    }
   ],
   "source": [
    "def predict_from_csv(path_to_csv):\n",
    "\n",
    "    df = pd.read_csv(path_to_csv)\n",
    "    X, y = prep_data(df)\n",
    "\n",
    "#     reg_lr = load(\"lrreg.joblib\")\n",
    "    reg_rf = load(\"rfreg.joblib\")\n",
    "#     reg_gp = load(\"gpreg.joblib\")\n",
    "#     reg_nb = load(\"nbreg.joblib\")\n",
    "#     reg_wrf = load(\"wrfreg.joblib\")\n",
    "#     reg_dt = load(\"dtreg.joblib\")\n",
    "\n",
    "    \n",
    "\n",
    "#     predictions_lr = reg_lr.predict(X)\n",
    "    predictions_rf = reg_rf.predict(X)\n",
    "#     predictions_gp = reg_gp.predict(X)\n",
    "#     predictions_nb = reg_nb.predict(X)\n",
    "#     predictions_wrf = reg_wrf.predict(X)\n",
    "#     predictions_dt = reg_dt.predict(X)\n",
    "    \n",
    "\n",
    "    return predictions_rf\n",
    "if __name__ == \"__main__\":\n",
    "    predictions = predict_from_csv(\"fish_holdout_demo2.csv\")\n",
    "    print(predictions)"
   ]
  },
  {
   "cell_type": "code",
   "execution_count": 304,
   "metadata": {},
   "outputs": [
    {
     "name": "stdout",
     "output_type": "stream",
     "text": [
      "334.29121778571454\n"
     ]
    }
   ],
   "source": [
    "from sklearn.metrics import mean_squared_error\n",
    "\n",
    "\n",
    "ho_predictions = predict_from_csv(\"fish_holdout_demo.csv\")\n",
    "ho_truth = pd.read_csv(\"fish_holdout_demo.csv\")[\"Weight\"].values\n",
    "ho_mse = mean_squared_error(ho_truth, ho_predictions)\n",
    "\n",
    "print(ho_mse)"
   ]
  },
  {
   "cell_type": "code",
   "execution_count": null,
   "metadata": {},
   "outputs": [],
   "source": []
  },
  {
   "cell_type": "code",
   "execution_count": null,
   "metadata": {},
   "outputs": [],
   "source": []
  },
  {
   "cell_type": "code",
   "execution_count": null,
   "metadata": {},
   "outputs": [],
   "source": []
  },
  {
   "cell_type": "code",
   "execution_count": null,
   "metadata": {},
   "outputs": [],
   "source": []
  },
  {
   "cell_type": "code",
   "execution_count": null,
   "metadata": {},
   "outputs": [],
   "source": []
  },
  {
   "cell_type": "code",
   "execution_count": null,
   "metadata": {},
   "outputs": [],
   "source": []
  },
  {
   "cell_type": "code",
   "execution_count": null,
   "metadata": {},
   "outputs": [],
   "source": []
  },
  {
   "cell_type": "code",
   "execution_count": null,
   "metadata": {},
   "outputs": [],
   "source": []
  },
  {
   "cell_type": "code",
   "execution_count": null,
   "metadata": {},
   "outputs": [],
   "source": []
  },
  {
   "cell_type": "code",
   "execution_count": null,
   "metadata": {},
   "outputs": [],
   "source": []
  },
  {
   "cell_type": "code",
   "execution_count": null,
   "metadata": {},
   "outputs": [],
   "source": []
  }
 ],
 "metadata": {
  "kernelspec": {
   "display_name": "project_2",
   "language": "python",
   "name": "project_2"
  },
  "language_info": {
   "codemirror_mode": {
    "name": "ipython",
    "version": 3
   },
   "file_extension": ".py",
   "mimetype": "text/x-python",
   "name": "python",
   "nbconvert_exporter": "python",
   "pygments_lexer": "ipython3",
   "version": "3.7.5"
  }
 },
 "nbformat": 4,
 "nbformat_minor": 4
}
